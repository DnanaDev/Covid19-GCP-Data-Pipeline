{
 "cells": [
  {
   "cell_type": "code",
   "execution_count": 1,
   "metadata": {
    "_cell_guid": "b1076dfc-b9ad-4769-8c92-a6c4dae69d19",
    "_uuid": "8f2839f25d086af736a60e9eeb907d3b93b6e0e5"
   },
   "outputs": [
    {
     "name": "stdout",
     "output_type": "stream",
     "text": [
      "/kaggle/input/covid19-global-forecasting-week-2/submission.csv\n",
      "/kaggle/input/covid19-global-forecasting-week-2/test.csv\n",
      "/kaggle/input/covid19-global-forecasting-week-2/train.csv\n"
     ]
    }
   ],
   "source": [
    "# This Python 3 environment comes with many helpful analytics libraries installed\n",
    "# It is defined by the kaggle/python docker image: https://github.com/kaggle/docker-python\n",
    "# For example, here's several helpful packages to load in \n",
    "\n",
    "import numpy as np # linear algebra\n",
    "import pandas as pd # data processing, CSV file I/O (e.g. pd.read_csv)\n",
    "\n",
    "# Input data files are available in the \"../input/\" directory.\n",
    "# For example, running this (by clicking run or pressing Shift+Enter) will list all files under the input directory\n",
    "\n",
    "import os\n",
    "for dirname, _, filenames in os.walk('/kaggle/input'):\n",
    "    for filename in filenames:\n",
    "        print(os.path.join(dirname, filename))\n",
    "\n",
    "# Any results you write to the current directory are saved as output."
   ]
  },
  {
   "cell_type": "code",
   "execution_count": 2,
   "metadata": {
    "_cell_guid": "79c7e3d0-c299-4dcb-8224-4455121ee9b0",
    "_uuid": "d629ff2d2480ee46fbb7e2d37f6b5fab8052498a"
   },
   "outputs": [],
   "source": [
    "train=pd.read_csv('/kaggle/input/covid19-global-forecasting-week-2/train.csv')\n",
    "test=pd.read_csv('/kaggle/input/covid19-global-forecasting-week-2/test.csv')"
   ]
  },
  {
   "cell_type": "code",
   "execution_count": 3,
   "metadata": {},
   "outputs": [
    {
     "data": {
      "text/html": [
       "<div>\n",
       "<style scoped>\n",
       "    .dataframe tbody tr th:only-of-type {\n",
       "        vertical-align: middle;\n",
       "    }\n",
       "\n",
       "    .dataframe tbody tr th {\n",
       "        vertical-align: top;\n",
       "    }\n",
       "\n",
       "    .dataframe thead th {\n",
       "        text-align: right;\n",
       "    }\n",
       "</style>\n",
       "<table border=\"1\" class=\"dataframe\">\n",
       "  <thead>\n",
       "    <tr style=\"text-align: right;\">\n",
       "      <th></th>\n",
       "      <th>Id</th>\n",
       "      <th>Province_State</th>\n",
       "      <th>Country_Region</th>\n",
       "      <th>Date</th>\n",
       "      <th>ConfirmedCases</th>\n",
       "      <th>Fatalities</th>\n",
       "    </tr>\n",
       "  </thead>\n",
       "  <tbody>\n",
       "    <tr>\n",
       "      <th>19105</th>\n",
       "      <td>29361</td>\n",
       "      <td>NaN</td>\n",
       "      <td>Zimbabwe</td>\n",
       "      <td>2020-03-22</td>\n",
       "      <td>3.0</td>\n",
       "      <td>0.0</td>\n",
       "    </tr>\n",
       "    <tr>\n",
       "      <th>19106</th>\n",
       "      <td>29362</td>\n",
       "      <td>NaN</td>\n",
       "      <td>Zimbabwe</td>\n",
       "      <td>2020-03-23</td>\n",
       "      <td>3.0</td>\n",
       "      <td>1.0</td>\n",
       "    </tr>\n",
       "    <tr>\n",
       "      <th>19107</th>\n",
       "      <td>29363</td>\n",
       "      <td>NaN</td>\n",
       "      <td>Zimbabwe</td>\n",
       "      <td>2020-03-24</td>\n",
       "      <td>3.0</td>\n",
       "      <td>1.0</td>\n",
       "    </tr>\n",
       "    <tr>\n",
       "      <th>19108</th>\n",
       "      <td>29364</td>\n",
       "      <td>NaN</td>\n",
       "      <td>Zimbabwe</td>\n",
       "      <td>2020-03-25</td>\n",
       "      <td>3.0</td>\n",
       "      <td>1.0</td>\n",
       "    </tr>\n",
       "    <tr>\n",
       "      <th>19109</th>\n",
       "      <td>29365</td>\n",
       "      <td>NaN</td>\n",
       "      <td>Zimbabwe</td>\n",
       "      <td>2020-03-26</td>\n",
       "      <td>3.0</td>\n",
       "      <td>1.0</td>\n",
       "    </tr>\n",
       "  </tbody>\n",
       "</table>\n",
       "</div>"
      ],
      "text/plain": [
       "          Id Province_State Country_Region        Date  ConfirmedCases  \\\n",
       "19105  29361            NaN       Zimbabwe  2020-03-22             3.0   \n",
       "19106  29362            NaN       Zimbabwe  2020-03-23             3.0   \n",
       "19107  29363            NaN       Zimbabwe  2020-03-24             3.0   \n",
       "19108  29364            NaN       Zimbabwe  2020-03-25             3.0   \n",
       "19109  29365            NaN       Zimbabwe  2020-03-26             3.0   \n",
       "\n",
       "       Fatalities  \n",
       "19105         0.0  \n",
       "19106         1.0  \n",
       "19107         1.0  \n",
       "19108         1.0  \n",
       "19109         1.0  "
      ]
     },
     "execution_count": 3,
     "metadata": {},
     "output_type": "execute_result"
    }
   ],
   "source": [
    "train.tail()"
   ]
  },
  {
   "cell_type": "code",
   "execution_count": 4,
   "metadata": {},
   "outputs": [],
   "source": [
    "training_data=train.groupby('Date')['ConfirmedCases','Fatalities'].sum().reset_index()"
   ]
  },
  {
   "cell_type": "code",
   "execution_count": 5,
   "metadata": {},
   "outputs": [
    {
     "data": {
      "text/plain": [
       "(65, 2)"
      ]
     },
     "execution_count": 5,
     "metadata": {},
     "output_type": "execute_result"
    }
   ],
   "source": [
    "training_data=training_data.drop('Date',axis=1).copy()\n",
    "training_data.shape"
   ]
  },
  {
   "cell_type": "code",
   "execution_count": 6,
   "metadata": {},
   "outputs": [],
   "source": [
    "train=training_data.iloc[0:50]\n",
    "val=training_data.iloc[50:]"
   ]
  },
  {
   "cell_type": "code",
   "execution_count": 7,
   "metadata": {},
   "outputs": [
    {
     "data": {
      "text/plain": [
       "(50, 2)"
      ]
     },
     "execution_count": 7,
     "metadata": {},
     "output_type": "execute_result"
    }
   ],
   "source": [
    "train.shape"
   ]
  },
  {
   "cell_type": "markdown",
   "metadata": {},
   "source": [
    "# **Scaling**"
   ]
  },
  {
   "cell_type": "code",
   "execution_count": 8,
   "metadata": {},
   "outputs": [],
   "source": [
    "from sklearn.preprocessing import MinMaxScaler\n",
    "scaler=MinMaxScaler()\n",
    "x_scale_train_data=scaler.fit_transform(train)"
   ]
  },
  {
   "cell_type": "code",
   "execution_count": 9,
   "metadata": {},
   "outputs": [],
   "source": [
    "x_train=[]\n",
    "y_train=[]\n",
    "for i in range(10,train.shape[0]):\n",
    "    x_train.append(x_scale_train_data[i-10:i])\n",
    "    y_train.append(x_scale_train_data[i,1])"
   ]
  },
  {
   "cell_type": "code",
   "execution_count": 10,
   "metadata": {},
   "outputs": [],
   "source": [
    "x_train, y_train = np.array(x_train), np.array(y_train)"
   ]
  },
  {
   "cell_type": "code",
   "execution_count": 11,
   "metadata": {},
   "outputs": [
    {
     "data": {
      "text/plain": [
       "(40, 10, 2)"
      ]
     },
     "execution_count": 11,
     "metadata": {},
     "output_type": "execute_result"
    }
   ],
   "source": [
    "x_train.shape"
   ]
  },
  {
   "cell_type": "markdown",
   "metadata": {},
   "source": [
    "# **Partition into train and test data**"
   ]
  },
  {
   "cell_type": "code",
   "execution_count": 12,
   "metadata": {},
   "outputs": [],
   "source": [
    "from sklearn.model_selection import train_test_split\n",
    "xTrain, xTest, yTrain, yTest = train_test_split(x_train, y_train, test_size = 0.2, random_state = 0)"
   ]
  },
  {
   "cell_type": "code",
   "execution_count": 13,
   "metadata": {},
   "outputs": [],
   "source": [
    "from tensorflow.keras import Sequential\n",
    "from tensorflow.keras.layers import Dense, LSTM, Dropout"
   ]
  },
  {
   "cell_type": "code",
   "execution_count": 14,
   "metadata": {},
   "outputs": [],
   "source": [
    "model=Sequential()\n",
    "\n",
    "model.add(LSTM(20,activation = 'relu',return_sequences=True,input_shape = (xTrain.shape[1],2)))\n",
    "model.add(Dropout(0.5))\n",
    "\n",
    "model.add(LSTM(20,activation = 'relu',return_sequences=True))\n",
    "model.add(Dropout(0.5))\n",
    "\n",
    "model.add(LSTM(20,activation = 'relu'))\n",
    "model.add(Dropout(0.5))\n",
    "\n",
    "model.add(Dense(1,activation='linear'))"
   ]
  },
  {
   "cell_type": "code",
   "execution_count": 15,
   "metadata": {},
   "outputs": [],
   "source": [
    "model.compile(loss='mean_squared_error',optimizer='adam')"
   ]
  },
  {
   "cell_type": "code",
   "execution_count": 16,
   "metadata": {},
   "outputs": [
    {
     "name": "stdout",
     "output_type": "stream",
     "text": [
      "Train on 32 samples\n",
      "Epoch 1/100\n",
      "32/32 [==============================] - 3s 95ms/sample - loss: 0.3019\n",
      "Epoch 2/100\n",
      "32/32 [==============================] - 0s 915us/sample - loss: 0.2898\n",
      "Epoch 3/100\n",
      "32/32 [==============================] - 0s 933us/sample - loss: 0.2790\n",
      "Epoch 4/100\n",
      "32/32 [==============================] - 0s 921us/sample - loss: 0.2678\n",
      "Epoch 5/100\n",
      "32/32 [==============================] - 0s 895us/sample - loss: 0.2484\n",
      "Epoch 6/100\n",
      "32/32 [==============================] - 0s 890us/sample - loss: 0.2506\n",
      "Epoch 7/100\n",
      "32/32 [==============================] - 0s 834us/sample - loss: 0.2281\n",
      "Epoch 8/100\n",
      "32/32 [==============================] - 0s 839us/sample - loss: 0.2034\n",
      "Epoch 9/100\n",
      "32/32 [==============================] - 0s 815us/sample - loss: 0.2044\n",
      "Epoch 10/100\n",
      "32/32 [==============================] - 0s 825us/sample - loss: 0.1789\n",
      "Epoch 11/100\n",
      "32/32 [==============================] - 0s 857us/sample - loss: 0.1610\n",
      "Epoch 12/100\n",
      "32/32 [==============================] - 0s 900us/sample - loss: 0.1477\n",
      "Epoch 13/100\n",
      "32/32 [==============================] - 0s 938us/sample - loss: 0.1088\n",
      "Epoch 14/100\n",
      "32/32 [==============================] - 0s 850us/sample - loss: 0.0750\n",
      "Epoch 15/100\n",
      "32/32 [==============================] - 0s 877us/sample - loss: 0.0936\n",
      "Epoch 16/100\n",
      "32/32 [==============================] - 0s 848us/sample - loss: 0.0572\n",
      "Epoch 17/100\n",
      "32/32 [==============================] - 0s 846us/sample - loss: 0.0839\n",
      "Epoch 18/100\n",
      "32/32 [==============================] - 0s 836us/sample - loss: 0.0808\n",
      "Epoch 19/100\n",
      "32/32 [==============================] - 0s 910us/sample - loss: 0.0774\n",
      "Epoch 20/100\n",
      "32/32 [==============================] - 0s 863us/sample - loss: 0.0496\n",
      "Epoch 21/100\n",
      "32/32 [==============================] - 0s 945us/sample - loss: 0.0604\n",
      "Epoch 22/100\n",
      "32/32 [==============================] - 0s 861us/sample - loss: 0.0956\n",
      "Epoch 23/100\n",
      "32/32 [==============================] - 0s 852us/sample - loss: 0.0805\n",
      "Epoch 24/100\n",
      "32/32 [==============================] - 0s 834us/sample - loss: 0.0507\n",
      "Epoch 25/100\n",
      "32/32 [==============================] - 0s 860us/sample - loss: 0.0755\n",
      "Epoch 26/100\n",
      "32/32 [==============================] - 0s 903us/sample - loss: 0.0809\n",
      "Epoch 27/100\n",
      "32/32 [==============================] - 0s 862us/sample - loss: 0.0550\n",
      "Epoch 28/100\n",
      "32/32 [==============================] - 0s 877us/sample - loss: 0.0665\n",
      "Epoch 29/100\n",
      "32/32 [==============================] - 0s 901us/sample - loss: 0.0679\n",
      "Epoch 30/100\n",
      "32/32 [==============================] - 0s 918us/sample - loss: 0.0974\n",
      "Epoch 31/100\n",
      "32/32 [==============================] - 0s 880us/sample - loss: 0.0566\n",
      "Epoch 32/100\n",
      "32/32 [==============================] - 0s 879us/sample - loss: 0.0586\n",
      "Epoch 33/100\n",
      "32/32 [==============================] - 0s 877us/sample - loss: 0.0678\n",
      "Epoch 34/100\n",
      "32/32 [==============================] - 0s 877us/sample - loss: 0.0543\n",
      "Epoch 35/100\n",
      "32/32 [==============================] - 0s 846us/sample - loss: 0.0540\n",
      "Epoch 36/100\n",
      "32/32 [==============================] - 0s 838us/sample - loss: 0.0587\n",
      "Epoch 37/100\n",
      "32/32 [==============================] - 0s 883us/sample - loss: 0.0896\n",
      "Epoch 38/100\n",
      "32/32 [==============================] - 0s 861us/sample - loss: 0.1551\n",
      "Epoch 39/100\n",
      "32/32 [==============================] - 0s 872us/sample - loss: 0.0411\n",
      "Epoch 40/100\n",
      "32/32 [==============================] - 0s 830us/sample - loss: 0.0648\n",
      "Epoch 41/100\n",
      "32/32 [==============================] - 0s 833us/sample - loss: 0.0478\n",
      "Epoch 42/100\n",
      "32/32 [==============================] - 0s 896us/sample - loss: 0.0375\n",
      "Epoch 43/100\n",
      "32/32 [==============================] - 0s 835us/sample - loss: 0.0403\n",
      "Epoch 44/100\n",
      "32/32 [==============================] - 0s 819us/sample - loss: 0.0536\n",
      "Epoch 45/100\n",
      "32/32 [==============================] - 0s 862us/sample - loss: 0.0404\n",
      "Epoch 46/100\n",
      "32/32 [==============================] - 0s 970us/sample - loss: 0.0480\n",
      "Epoch 47/100\n",
      "32/32 [==============================] - 0s 845us/sample - loss: 0.0433\n",
      "Epoch 48/100\n",
      "32/32 [==============================] - 0s 862us/sample - loss: 0.0212\n",
      "Epoch 49/100\n",
      "32/32 [==============================] - 0s 900us/sample - loss: 0.0230\n",
      "Epoch 50/100\n",
      "32/32 [==============================] - 0s 805us/sample - loss: 0.0251\n",
      "Epoch 51/100\n",
      "32/32 [==============================] - 0s 792us/sample - loss: 0.0489\n",
      "Epoch 52/100\n",
      "32/32 [==============================] - 0s 809us/sample - loss: 0.0592\n",
      "Epoch 53/100\n",
      "32/32 [==============================] - 0s 860us/sample - loss: 0.0207\n",
      "Epoch 54/100\n",
      "32/32 [==============================] - 0s 897us/sample - loss: 0.0487\n",
      "Epoch 55/100\n",
      "32/32 [==============================] - 0s 838us/sample - loss: 0.0585\n",
      "Epoch 56/100\n",
      "32/32 [==============================] - 0s 886us/sample - loss: 0.0373\n",
      "Epoch 57/100\n",
      "32/32 [==============================] - 0s 912us/sample - loss: 0.0387\n",
      "Epoch 58/100\n",
      "32/32 [==============================] - 0s 906us/sample - loss: 0.0358\n",
      "Epoch 59/100\n",
      "32/32 [==============================] - 0s 869us/sample - loss: 0.0509\n",
      "Epoch 60/100\n",
      "32/32 [==============================] - 0s 907us/sample - loss: 0.0258\n",
      "Epoch 61/100\n",
      "32/32 [==============================] - 0s 922us/sample - loss: 0.0485\n",
      "Epoch 62/100\n",
      "32/32 [==============================] - 0s 881us/sample - loss: 0.0395\n",
      "Epoch 63/100\n",
      "32/32 [==============================] - 0s 922us/sample - loss: 0.0479\n",
      "Epoch 64/100\n",
      "32/32 [==============================] - 0s 913us/sample - loss: 0.0260\n",
      "Epoch 65/100\n",
      "32/32 [==============================] - 0s 900us/sample - loss: 0.0443\n",
      "Epoch 66/100\n",
      "32/32 [==============================] - 0s 912us/sample - loss: 0.0605\n",
      "Epoch 67/100\n",
      "32/32 [==============================] - 0s 870us/sample - loss: 0.0402\n",
      "Epoch 68/100\n",
      "32/32 [==============================] - 0s 874us/sample - loss: 0.0274\n",
      "Epoch 69/100\n",
      "32/32 [==============================] - 0s 879us/sample - loss: 0.0745\n",
      "Epoch 70/100\n",
      "32/32 [==============================] - 0s 971us/sample - loss: 0.0453\n",
      "Epoch 71/100\n",
      "32/32 [==============================] - 0s 883us/sample - loss: 0.0232\n",
      "Epoch 72/100\n",
      "32/32 [==============================] - 0s 864us/sample - loss: 0.0451\n",
      "Epoch 73/100\n",
      "32/32 [==============================] - 0s 866us/sample - loss: 0.0307\n",
      "Epoch 74/100\n",
      "32/32 [==============================] - 0s 862us/sample - loss: 0.0403\n",
      "Epoch 75/100\n",
      "32/32 [==============================] - 0s 896us/sample - loss: 0.0231\n",
      "Epoch 76/100\n",
      "32/32 [==============================] - 0s 848us/sample - loss: 0.0272\n",
      "Epoch 77/100\n",
      "32/32 [==============================] - 0s 872us/sample - loss: 0.0531\n",
      "Epoch 78/100\n",
      "32/32 [==============================] - 0s 891us/sample - loss: 0.0556\n",
      "Epoch 79/100\n",
      "32/32 [==============================] - 0s 891us/sample - loss: 0.0281\n",
      "Epoch 80/100\n",
      "32/32 [==============================] - 0s 940us/sample - loss: 0.0335\n",
      "Epoch 81/100\n",
      "32/32 [==============================] - 0s 902us/sample - loss: 0.0296\n",
      "Epoch 82/100\n",
      "32/32 [==============================] - 0s 878us/sample - loss: 0.0467\n",
      "Epoch 83/100\n",
      "32/32 [==============================] - 0s 846us/sample - loss: 0.0248\n",
      "Epoch 84/100\n",
      "32/32 [==============================] - 0s 866us/sample - loss: 0.0206\n",
      "Epoch 85/100\n",
      "32/32 [==============================] - 0s 838us/sample - loss: 0.0437\n",
      "Epoch 86/100\n",
      "32/32 [==============================] - 0s 896us/sample - loss: 0.0363\n",
      "Epoch 87/100\n",
      "32/32 [==============================] - 0s 935us/sample - loss: 0.0243\n",
      "Epoch 88/100\n",
      "32/32 [==============================] - 0s 888us/sample - loss: 0.0275\n",
      "Epoch 89/100\n",
      "32/32 [==============================] - 0s 890us/sample - loss: 0.0259\n",
      "Epoch 90/100\n",
      "32/32 [==============================] - 0s 886us/sample - loss: 0.0303\n",
      "Epoch 91/100\n",
      "32/32 [==============================] - 0s 906us/sample - loss: 0.0412\n",
      "Epoch 92/100\n",
      "32/32 [==============================] - 0s 914us/sample - loss: 0.0346\n",
      "Epoch 93/100\n",
      "32/32 [==============================] - 0s 920us/sample - loss: 0.0446\n",
      "Epoch 94/100\n",
      "32/32 [==============================] - 0s 887us/sample - loss: 0.0408\n",
      "Epoch 95/100\n",
      "32/32 [==============================] - 0s 867us/sample - loss: 0.0381\n",
      "Epoch 96/100\n",
      "32/32 [==============================] - 0s 880us/sample - loss: 0.0329\n",
      "Epoch 97/100\n",
      "32/32 [==============================] - 0s 894us/sample - loss: 0.0571\n",
      "Epoch 98/100\n",
      "32/32 [==============================] - 0s 1ms/sample - loss: 0.0473\n",
      "Epoch 99/100\n",
      "32/32 [==============================] - 0s 860us/sample - loss: 0.0427\n",
      "Epoch 100/100\n",
      "32/32 [==============================] - 0s 925us/sample - loss: 0.0318\n"
     ]
    }
   ],
   "source": [
    "history=model.fit(xTrain,yTrain,epochs=100,batch_size=16)"
   ]
  },
  {
   "cell_type": "markdown",
   "metadata": {},
   "source": [
    "# **validation data**"
   ]
  },
  {
   "cell_type": "code",
   "execution_count": 17,
   "metadata": {},
   "outputs": [],
   "source": [
    "val_data=train.tail(10).append(val,ignore_index = True)"
   ]
  },
  {
   "cell_type": "code",
   "execution_count": 18,
   "metadata": {},
   "outputs": [
    {
     "data": {
      "text/html": [
       "<div>\n",
       "<style scoped>\n",
       "    .dataframe tbody tr th:only-of-type {\n",
       "        vertical-align: middle;\n",
       "    }\n",
       "\n",
       "    .dataframe tbody tr th {\n",
       "        vertical-align: top;\n",
       "    }\n",
       "\n",
       "    .dataframe thead th {\n",
       "        text-align: right;\n",
       "    }\n",
       "</style>\n",
       "<table border=\"1\" class=\"dataframe\">\n",
       "  <thead>\n",
       "    <tr style=\"text-align: right;\">\n",
       "      <th></th>\n",
       "      <th>ConfirmedCases</th>\n",
       "      <th>Fatalities</th>\n",
       "    </tr>\n",
       "  </thead>\n",
       "  <tbody>\n",
       "    <tr>\n",
       "      <th>0</th>\n",
       "      <td>90208.0</td>\n",
       "      <td>3079.0</td>\n",
       "    </tr>\n",
       "    <tr>\n",
       "      <th>1</th>\n",
       "      <td>92722.0</td>\n",
       "      <td>3153.0</td>\n",
       "    </tr>\n",
       "    <tr>\n",
       "      <th>2</th>\n",
       "      <td>94971.0</td>\n",
       "      <td>3243.0</td>\n",
       "    </tr>\n",
       "    <tr>\n",
       "      <th>3</th>\n",
       "      <td>97665.0</td>\n",
       "      <td>3336.0</td>\n",
       "    </tr>\n",
       "    <tr>\n",
       "      <th>4</th>\n",
       "      <td>101532.0</td>\n",
       "      <td>3446.0</td>\n",
       "    </tr>\n",
       "  </tbody>\n",
       "</table>\n",
       "</div>"
      ],
      "text/plain": [
       "   ConfirmedCases  Fatalities\n",
       "0         90208.0      3079.0\n",
       "1         92722.0      3153.0\n",
       "2         94971.0      3243.0\n",
       "3         97665.0      3336.0\n",
       "4        101532.0      3446.0"
      ]
     },
     "execution_count": 18,
     "metadata": {},
     "output_type": "execute_result"
    }
   ],
   "source": [
    "val_data.head()"
   ]
  },
  {
   "cell_type": "code",
   "execution_count": 19,
   "metadata": {},
   "outputs": [],
   "source": [
    "x_scale_val_data=scaler.transform(val_data)"
   ]
  },
  {
   "cell_type": "code",
   "execution_count": 20,
   "metadata": {},
   "outputs": [
    {
     "data": {
      "text/plain": [
       "(25, 2)"
      ]
     },
     "execution_count": 20,
     "metadata": {},
     "output_type": "execute_result"
    }
   ],
   "source": [
    "x_scale_val_data.shape"
   ]
  },
  {
   "cell_type": "code",
   "execution_count": 21,
   "metadata": {},
   "outputs": [],
   "source": [
    "X_val = []\n",
    "y_val = []\n",
    "for i in range(10, val_data.shape[0]):\n",
    "    X_val.append(x_scale_val_data[i-10:i])\n",
    "    y_val.append(x_scale_val_data[i, 1])"
   ]
  },
  {
   "cell_type": "code",
   "execution_count": 22,
   "metadata": {},
   "outputs": [],
   "source": [
    "x_val, y_val = np.array(X_val), np.array(y_val)"
   ]
  },
  {
   "cell_type": "code",
   "execution_count": 23,
   "metadata": {},
   "outputs": [
    {
     "data": {
      "text/plain": [
       "array([7.98568964e-06, 2.17485863e-04])"
      ]
     },
     "execution_count": 23,
     "metadata": {},
     "output_type": "execute_result"
    }
   ],
   "source": [
    "scaler.scale_"
   ]
  },
  {
   "cell_type": "code",
   "execution_count": 24,
   "metadata": {},
   "outputs": [],
   "source": [
    "scale=1/ 2.17485863e-04"
   ]
  },
  {
   "cell_type": "markdown",
   "metadata": {},
   "source": [
    "# **Prediction**"
   ]
  },
  {
   "cell_type": "code",
   "execution_count": 25,
   "metadata": {},
   "outputs": [],
   "source": [
    "y_pred=model.predict(x_val)"
   ]
  },
  {
   "cell_type": "code",
   "execution_count": 26,
   "metadata": {},
   "outputs": [],
   "source": [
    "y_new_pred=y_pred*scale\n",
    "y_val=y_val*scale"
   ]
  },
  {
   "cell_type": "code",
   "execution_count": 27,
   "metadata": {},
   "outputs": [
    {
     "data": {
      "image/png": "[encoded data removed]",
      "text/plain": [
       "<Figure size 1008x360 with 1 Axes>"
      ]
     },
     "metadata": {
      "needs_background": "light"
     },
     "output_type": "display_data"
    }
   ],
   "source": [
    "import numpy as np\n",
    "import matplotlib.pyplot as plt\n",
    "import pandas as pd\n",
    "plt.figure(figsize=(14,5))\n",
    "plt.plot(y_val, color = 'red', label = 'Real')\n",
    "plt.plot(y_new_pred, color = 'blue', label = 'Predicted')\n",
    "# plt.title('Google Stock Price Prediction')\n",
    "plt.legend()\n",
    "plt.show()"
   ]
  },
  {
   "cell_type": "code",
   "execution_count": null,
   "metadata": {},
   "outputs": [],
   "source": []
  }
 ],
 "metadata": {
  "kernelspec": {
   "display_name": "Python 3",
   "language": "python",
   "name": "python3"
  },
  "language_info": {
   "codemirror_mode": {
    "name": "ipython",
    "version": 3
   },
   "file_extension": ".py",
   "mimetype": "text/x-python",
   "name": "python",
   "nbconvert_exporter": "python",
   "pygments_lexer": "ipython3",
   "version": "3.6.6"
  }
 },
 "nbformat": 4,
 "nbformat_minor": 4
}
