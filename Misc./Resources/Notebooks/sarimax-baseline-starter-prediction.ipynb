{
 "cells": [
  {
   "cell_type": "markdown",
   "metadata": {},
   "source": [
    "### Seasonal Autoregressive Integrated Moving-Average with Exogenous Regressors\n",
    "\n",
    "In statistics and econometrics, and in particular in time series analysis, an autoregressive integrated moving average (ARIMA) model is a generalization of an autoregressive moving average (ARMA) model. Both of these models are fitted to time series data either to better understand the data or to predict future points in the series (forecasting). ARIMA models are applied in some cases where data show evidence of non-stationarity, where an initial differencing step (corresponding to the \"integrated\" part of the model) can be applied one or more times to eliminate the non-stationarity.\n",
    "\n",
    "This class allows two different underlying representations of ARMA models as state space models: that of Hamilton and that of Harvey. Both are equivalent in the sense that they are analytical representations of the ARMA model, but the state vectors of each have different meanings. For this reason, maximum likelihood does not result in identical parameter estimates and even the same set of parameters will result in different loglikelihoods.\n",
    "\n",
    "The Harvey representation is convenient because it allows integrating differencing into the state vector to allow using all observations for estimation.\n",
    "\n",
    "In this implementation of differenced models, the Hamilton representation is not able to accommodate differencing in the state vector, so simple_differencing (which performs differencing prior to estimation so that the first d + sD observations are lost) must be used.\n",
    "\n",
    "##### References\n",
    "* [wiki](https://en.wikipedia.org/wiki/Autoregressive_integrated_moving_average)\n",
    "* [statsmodels](https://www.statsmodels.org/dev/generated/statsmodels.tsa.statespace.sarimax.SARIMAX.html)"
   ]
  },
  {
   "cell_type": "markdown",
   "metadata": {},
   "source": [
    "# Imports"
   ]
  },
  {
   "cell_type": "code",
   "execution_count": 1,
   "metadata": {
    "_cell_guid": "b1076dfc-b9ad-4769-8c92-a6c4dae69d19",
    "_uuid": "8f2839f25d086af736a60e9eeb907d3b93b6e0e5"
   },
   "outputs": [],
   "source": [
    "import numpy as np\n",
    "import pandas as pd\n",
    "import matplotlib.pyplot as plt\n",
    "from scipy.optimize import curve_fit\n",
    "\n",
    "from statsmodels.tsa.statespace.sarimax import SARIMAX\n",
    "from statsmodels.tsa.arima_model import ARIMA\n",
    "from random import random"
   ]
  },
  {
   "cell_type": "markdown",
   "metadata": {},
   "source": [
    "# Data"
   ]
  },
  {
   "cell_type": "code",
   "execution_count": 2,
   "metadata": {},
   "outputs": [
    {
     "name": "stdout",
     "output_type": "stream",
     "text": [
      "we have 284 regions in our dataset\n"
     ]
    }
   ],
   "source": [
    "df=pd.read_csv(\"/kaggle/input/covid19-global-forecasting-week-1/train.csv\",usecols=['Lat','Province/State','Country/Region','Date','ConfirmedCases','Fatalities'])\n",
    "df.fillna(' ',inplace=True)\n",
    "df['Lat']=df['Province/State']+df['Country/Region']\n",
    "df.drop('Province/State',axis=1,inplace=True)\n",
    "df.drop('Country/Region',axis=1,inplace=True)\n",
    "countries_list=df.Lat.unique()\n",
    "df1=[]\n",
    "for i in countries_list:\n",
    "    df1.append(df[df['Lat']==i])\n",
    "print(\"we have \"+ str(len(df1))+\" regions in our dataset\")"
   ]
  },
  {
   "cell_type": "markdown",
   "metadata": {},
   "source": [
    "### Data Visualization\n",
    "\n"
   ]
  },
  {
   "cell_type": "markdown",
   "metadata": {},
   "source": [
    "To-do"
   ]
  },
  {
   "cell_type": "markdown",
   "metadata": {},
   "source": [
    "# Prediction/Forecasting"
   ]
  },
  {
   "cell_type": "code",
   "execution_count": 3,
   "metadata": {},
   "outputs": [
    {
     "name": "stderr",
     "output_type": "stream",
     "text": [
      "/opt/conda/lib/python3.6/site-packages/statsmodels/tsa/statespace/sarimax.py:994: UserWarning: Non-stationary starting seasonal autoregressive Using zeros as starting parameters.\n",
      "  warn('Non-stationary starting seasonal autoregressive'\n",
      "/opt/conda/lib/python3.6/site-packages/statsmodels/tsa/statespace/sarimax.py:963: UserWarning: Non-stationary starting autoregressive parameters found. Using zeros as starting parameters.\n",
      "  warn('Non-stationary starting autoregressive parameters'\n",
      "/opt/conda/lib/python3.6/site-packages/statsmodels/base/model.py:568: ConvergenceWarning: Maximum Likelihood optimization failed to converge. Check mle_retvals\n",
      "  \"Check mle_retvals\", ConvergenceWarning)\n",
      "/opt/conda/lib/python3.6/site-packages/statsmodels/base/model.py:568: ConvergenceWarning: Maximum Likelihood optimization failed to converge. Check mle_retvals\n",
      "  \"Check mle_retvals\", ConvergenceWarning)\n",
      "/opt/conda/lib/python3.6/site-packages/statsmodels/base/model.py:568: ConvergenceWarning: Maximum Likelihood optimization failed to converge. Check mle_retvals\n",
      "  \"Check mle_retvals\", ConvergenceWarning)\n"
     ]
    }
   ],
   "source": [
    "submit_confirmed=[]\n",
    "submit_fatal=[]\n",
    "for i in df1:\n",
    "    # contrived dataset\n",
    "    data = i.ConfirmedCases.astype('int32').tolist()\n",
    "    # fit model\n",
    "    try:\n",
    "        model = SARIMAX(data, order=(2,1,0), seasonal_order=(1,1,0,12))#seasonal_order=(1, 1, 1, 1))\n",
    "        #model = ARIMA(data, order=(3,1,2))\n",
    "        model_fit = model.fit(disp=False)\n",
    "        # make prediction\n",
    "        predicted = model_fit.predict(len(data), len(data)+34)\n",
    "        new=np.concatenate((np.array(data),np.array([int(num) for num in predicted])),axis=0)\n",
    "        submit_confirmed.extend(list(new[-43:]))\n",
    "    except:\n",
    "        submit_confirmed.extend(list(data[-10:-1]))\n",
    "        for j in range(34):\n",
    "            submit_confirmed.append(data[-1]*2)\n",
    "    \n",
    "    # contrived dataset\n",
    "    data = i.Fatalities.astype('int32').tolist()\n",
    "    # fit model\n",
    "    try:\n",
    "        model = SARIMAX(data, order=(2,1,0), seasonal_order=(1,1,0,12))#seasonal_order=(1, 1, 1, 1))\n",
    "        #model = ARIMA(data, order=(3,1,2))\n",
    "        model_fit = model.fit(disp=False)\n",
    "        # make prediction\n",
    "        predicted = model_fit.predict(len(data), len(data)+34)\n",
    "        new=np.concatenate((np.array(data),np.array([int(num) for num in predicted])),axis=0)\n",
    "        submit_fatal.extend(list(new[-43:]))\n",
    "    except:\n",
    "        submit_fatal.extend(list(data[-10:-1]))\n",
    "        for j in range(34):\n",
    "            submit_fatal.append(data[-1]*2)\n",
    "\n",
    "df_submit=pd.concat([pd.Series(np.arange(1,1+len(submit_confirmed))),pd.Series(submit_confirmed),pd.Series(submit_fatal)],axis=1)"
   ]
  },
  {
   "cell_type": "markdown",
   "metadata": {},
   "source": [
    "# Submission"
   ]
  },
  {
   "cell_type": "code",
   "execution_count": 4,
   "metadata": {},
   "outputs": [],
   "source": [
    "#df_submit.interpolate(method='pad', xis=0, inplace=True)\n",
    "df_submit=df_submit.fillna(method='pad').astype(int)\n",
    "df_submit.to_csv('submission.csv',header=['ForecastId','ConfirmedCases','Fatalities'],index=False)"
   ]
  },
  {
   "cell_type": "markdown",
   "metadata": {},
   "source": [
    "# Visualisation of Predictions"
   ]
  },
  {
   "cell_type": "code",
   "execution_count": 5,
   "metadata": {},
   "outputs": [
    {
     "data": {
      "image/png": "[encoded data removed]",
      "text/plain": [
       "<Figure size 432x288 with 1 Axes>"
      ]
     },
     "metadata": {
      "needs_background": "light"
     },
     "output_type": "display_data"
    },
    {
     "data": {
      "image/png": "[encoded data removed]",
      "text/plain": [
       "<Figure size 432x288 with 1 Axes>"
      ]
     },
     "metadata": {
      "needs_background": "light"
     },
     "output_type": "display_data"
    }
   ],
   "source": [
    "# contrived dataset\n",
    "n=213 # select country\n",
    "data = df1[n].ConfirmedCases.astype('int32').tolist()\n",
    "# fit model\n",
    "new=submit_confirmed[9159:9201]\n",
    "plt.plot(new)\n",
    "plt.axvline(x=9,color='r')\n",
    "plt.title(\"Confirmed Case Plot: \"+str(df1[n].iloc[0,0]))\n",
    "plt.xlabel('Days')\n",
    "plt.ylabel('Confirmed Cases')\n",
    "plt.show()\n",
    "\n",
    "\n",
    "# contrived dataset\n",
    "data = df1[n].Fatalities.astype('int32').tolist()\n",
    "new=submit_fatal[9159:9201]\n",
    "plt.plot(new)\n",
    "plt.axvline(x=9,color='r')\n",
    "plt.title(\"Fatalities Plot\")\n",
    "plt.xlabel('Days')\n",
    "plt.ylabel('Fatalities')\n",
    "plt.show()"
   ]
  },
  {
   "cell_type": "code",
   "execution_count": null,
   "metadata": {},
   "outputs": [],
   "source": []
  }
 ],
 "metadata": {
  "kernelspec": {
   "display_name": "Python 3",
   "language": "python",
   "name": "python3"
  },
  "language_info": {
   "codemirror_mode": {
    "name": "ipython",
    "version": 3
   },
   "file_extension": ".py",
   "mimetype": "text/x-python",
   "name": "python",
   "nbconvert_exporter": "python",
   "pygments_lexer": "ipython3",
   "version": "3.6.6"
  }
 },
 "nbformat": 4,
 "nbformat_minor": 4
}
